{
 "cells": [
  {
   "cell_type": "markdown",
   "id": "6d1f5f20",
   "metadata": {},
   "source": [
    "# WARPS X-ray Luminosity Function\n",
    "\n",
    "Based on the work in Koens 2013, we aim to recreate the WARPS X-ray Luminosity Function (XLF) and observe the excess of galaxy clusters in the nearby universe at L ~ $2 \\times 10^{43}$ erg/s"
   ]
  },
  {
   "cell_type": "markdown",
   "id": "1558ab7c",
   "metadata": {},
   "source": [
    "## Table of Contents\n",
    "\n",
    "1. [Imports](#1-imports)\n",
    "2. [Luminosity - redshift plot](#2-luminosity---redshift-plot)\n",
    "3. [Selection Function](#3-selection-function)\n",
    "4. [Calculating number densities](#4-calculating-number-densities)\n",
    "5. [Plot XLF](#5-plot-xlf)\n",
    "6. [Expected vs Observed numbers](#6-expected-vs-observed-numbers)"
   ]
  },
  {
   "cell_type": "markdown",
   "id": "fc05e2b4",
   "metadata": {},
   "source": [
    "## 1. Imports"
   ]
  },
  {
   "cell_type": "code",
   "execution_count": null,
   "id": "004791a6",
   "metadata": {},
   "outputs": [],
   "source": [
    "import numpy as np\n",
    "import matplotlib.pyplot as plt"
   ]
  },
  {
   "cell_type": "markdown",
   "id": "fb806195",
   "metadata": {},
   "source": [
    "## 2. Luminosity - redshift plot\n",
    "\n",
    "First lets investigate the data by plotting the Luminosity - z distribution of the sample, recreating:\n",
    "\n",
    "![WARPS/REFLEX L-z Distribution](figures/koens_2013/warps_reflex_lz.png)"
   ]
  },
  {
   "cell_type": "code",
   "execution_count": null,
   "id": "a98cab31",
   "metadata": {},
   "outputs": [],
   "source": []
  },
  {
   "cell_type": "markdown",
   "id": "a506c8ef",
   "metadata": {},
   "source": [
    "## 3. Selection Function"
   ]
  },
  {
   "cell_type": "code",
   "execution_count": null,
   "id": "641cb5f0",
   "metadata": {},
   "outputs": [],
   "source": []
  },
  {
   "cell_type": "markdown",
   "id": "ea0706d2",
   "metadata": {},
   "source": [
    "## 4. Calculating number densities"
   ]
  },
  {
   "cell_type": "code",
   "execution_count": null,
   "id": "2366391d",
   "metadata": {},
   "outputs": [],
   "source": []
  },
  {
   "cell_type": "markdown",
   "id": "220dc9a6",
   "metadata": {},
   "source": [
    "## 5. Plot XLF"
   ]
  },
  {
   "cell_type": "code",
   "execution_count": null,
   "id": "51126ea2",
   "metadata": {},
   "outputs": [],
   "source": []
  },
  {
   "cell_type": "markdown",
   "id": "cedeb469",
   "metadata": {},
   "source": [
    "## 6. Expected vs Observed numbers"
   ]
  },
  {
   "cell_type": "code",
   "execution_count": null,
   "id": "ab1be038",
   "metadata": {},
   "outputs": [],
   "source": []
  }
 ],
 "metadata": {
  "language_info": {
   "name": "python"
  }
 },
 "nbformat": 4,
 "nbformat_minor": 5
}
