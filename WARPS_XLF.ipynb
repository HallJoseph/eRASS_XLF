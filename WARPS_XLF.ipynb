{
 "cells": [
  {
   "cell_type": "markdown",
   "id": "6d1f5f20",
   "metadata": {},
   "source": [
    "# WARPS X-ray Luminosity Function\n",
    "\n",
    "Based on the work in Koens 2013, we aim to recreate the WARPS X-ray Luminosity Function (XLF) and observe the excess of galaxy clusters in the nearby universe at L ~ $2 \\times 10^{43}$ erg/s\n",
    "\n",
    "The XLF, conventionally given the symbol $\\phi$, is the comoving number density $n$ of objects per luminosity interval:\n",
    "\n",
    "$$\\phi(L_{\\text{X}},z) = \\frac{\\mathrm{d}n(L_{\\text{X}},z)}{\\mathrm{d}L_{\\text{X}}}$$\n",
    "\n",
    "The Schechter function is the canonical, parametric representation of the luminosity function:\n",
    "\n",
    "$$\\phi(L_{\\text{X}},z)\\mathrm{d}L_{\\text{X}} = \\phi^*\\left(\\frac{L_{\\text{X}}}{L^*_{\\text{X}}}\\right)^{-\\alpha} \\exp\\left(-\\frac{L_{\\text{X}}}{L^*_{\\text{X}}}\\right)\\left(\\frac{\\mathrm{d}L_{\\text{X}}}{L^*_{\\text{X}}}\\right)$$\n",
    "\n",
    "where the parameter $\\phi^*$ normalises the XLF, and $\\alpha$ determines the steepness at $L_{\\text{X}} < L_{\\text{X}}^*$."
   ]
  },
  {
   "cell_type": "markdown",
   "id": "1558ab7c",
   "metadata": {},
   "source": [
    "## Table of Contents\n",
    "\n",
    "1. [Imports](#1-imports)\n",
    "2. [Luminosity - redshift plot](#2-luminosity---z-plot)\n",
    "3. [Selection Function](#3-selection-function)\n",
    "4. [Calculating number densities](#4-calculating-number-densities)\n",
    "   - [4a. V_max method](#4a-v_textmax-method)\n",
    "   - [4b. Page-Carrera method](#4b-page-carrera-method)\n",
    "5. [Plot XLF](#5-plot-xlf)\n",
    "6. [Expected vs Observed numbers](#6-expected-vs-observed-numbers)"
   ]
  },
  {
   "cell_type": "markdown",
   "id": "fc05e2b4",
   "metadata": {},
   "source": [
    "## 1. Imports"
   ]
  },
  {
   "cell_type": "code",
   "execution_count": 3,
   "id": "004791a6",
   "metadata": {},
   "outputs": [
    {
     "name": "stdout",
     "output_type": "stream",
     "text": [
      "   Lx_centre       phi phi_plus_1sigma phi_minus_1sigma  N_obs z_tilde Lx_mean\n",
      "0      0.011  2.26 e-3        7.46 e-2         3.91 e-4    1.0   0.051    0.01\n",
      "1      0.016  1.14 e-3        2.64 e-2         4.04 e-4    2.0   0.063   0.015\n",
      "2      0.022  2.33 e-4        7.69 e-4         4.03 e-3    1.0   0.107   0.025\n",
      "3      0.031  3.46 e-4        6.20 e-4         1.80 e-4    4.0   0.125   0.032\n",
      "4      0.044  1.33 e-4        2.38 e-4         6.94 e-5    4.0   0.119   0.043\n"
     ]
    }
   ],
   "source": [
    "import pandas as pd\n",
    "\n",
    "df = pd.read_csv('data/koens_2013/tab1_0p02z0p3.csv')\n",
    "print(df.head())"
   ]
  },
  {
   "cell_type": "markdown",
   "id": "fb806195",
   "metadata": {},
   "source": [
    "## 2. Luminosity - z plot\n",
    "\n",
    "First lets investigate the data by plotting the Luminosity - z distribution of the sample, recreating:\n",
    "\n",
    "![WARPS/REFLEX L-z Distribution](figures/koens_2013/warps_reflex_lz.png)"
   ]
  },
  {
   "cell_type": "code",
   "execution_count": null,
   "id": "a98cab31",
   "metadata": {},
   "outputs": [],
   "source": []
  },
  {
   "cell_type": "markdown",
   "id": "a506c8ef",
   "metadata": {},
   "source": [
    "## 3. Selection Function\n",
    "\n",
    "$V_{\\text{max}}$ denotes the maximum co-moving volume, given by \n",
    "\n",
    "$$V_{\\text{max}} = \\int_{z_{\\text{min}}}^{z_{\\text{max}}}\\Omega(f_{\\text{X}},r_{\\theta})\\frac{\\mathrm{d}V(z)}{\\mathrm{d}z}\\mathrm{d}z$$\n",
    "\n",
    "where $\\Omega(f_{\\text{X}},r_{\\theta})$ is the sky coverage as a function of flux $f_{\\text{X}}(L_{\\text{X}},z)$ and angular extent $r_{\\theta}(r_c,z)$ (here $r_c$ is the core radius of the cluster surface brightness distribution, conventionally parameterised with a $\\beta$-model), and $\\mathrm{d}V(z)/\\mathrm{d}z$ is the differential, co-moving volume, which is strongly sensitive to the cosmological framework. The maximum co-moving volume is calculated for all $N$ galaxy clusters."
   ]
  },
  {
   "cell_type": "code",
   "execution_count": null,
   "id": "641cb5f0",
   "metadata": {},
   "outputs": [],
   "source": []
  },
  {
   "cell_type": "markdown",
   "id": "25a30472",
   "metadata": {},
   "source": [
    "## 4. Calculating number densities "
   ]
  },
  {
   "cell_type": "markdown",
   "id": "ea0706d2",
   "metadata": {},
   "source": [
    "### 4a. $V_{\\text{max}}$ method\n",
    "\n",
    "The XLF is then obtained by summing the corresponding density contributions per luminosity bin, that is:\n",
    "\n",
    "$$\\phi(L_{\\text{X}_j},z) = \\frac{1}{\\Delta L_{\\text{X}_j}}\\sum_{i=0}^{N_j}\\frac{1}{V_{\\text{max},i}}$$\n",
    "\n",
    "where the subscript $j$ denotes the $j$-th bin. Due to the sensitivity to the choice of binning, the method is less ideal for quantifying evolution. However, it is a conventional way of presenting a sample of objects, so we include it here to allow easy comparisons with previous work."
   ]
  },
  {
   "cell_type": "code",
   "execution_count": null,
   "id": "2366391d",
   "metadata": {},
   "outputs": [],
   "source": []
  },
  {
   "cell_type": "markdown",
   "id": "c31f7b2c",
   "metadata": {},
   "source": [
    "### 4b. Page-Carrera method\n",
    "\n",
    "Alternatively, Page & Carrera (2000) provide an estimate of $\\phi$, which expression is obtained by integrating the XLF definition and noting that $\\phi$ changes little compared to the survey volume element in the volume-luminosity plane, such that it can be taken out of the integral, giving:\n",
    "\n",
    "$$\\phi(L_{\\text{X}_j},z) = \\frac{N_j}{\\int_{L_{\\text{X,min}}}^{L_{\\text{X,max}}}\\int_{z_{\\text{min}}}^{z_{\\text{max}}}\\Omega(f_{\\text{X}},r_{\\theta})\\frac{\\mathrm{d}V(z)}{\\mathrm{d}z}\\mathrm{d}z\\mathrm{d}L_{\\text{X}}}$$\n",
    "\n",
    "where $L_{\\text{X}_j}$ is the bin centre and $N_j$ is the number of clusters in the $j$-th bin."
   ]
  },
  {
   "cell_type": "code",
   "execution_count": null,
   "id": "d32a71d6",
   "metadata": {},
   "outputs": [],
   "source": []
  },
  {
   "cell_type": "markdown",
   "id": "220dc9a6",
   "metadata": {},
   "source": [
    "## 5. Plot XLF\n",
    "\n",
    "We want to plot our XLF and compare with Schechter lines to recreate:\n",
    "\n",
    "![XLF Plot with Page-Carrera Local and Accelerated](figures/koens_2013/XLF_paca_local_acc.png)"
   ]
  },
  {
   "cell_type": "code",
   "execution_count": null,
   "id": "51126ea2",
   "metadata": {},
   "outputs": [],
   "source": []
  },
  {
   "cell_type": "markdown",
   "id": "cedeb469",
   "metadata": {},
   "source": [
    "## 6. Expected vs Observed numbers\n",
    "\n",
    "The expected number of objects in the luminosity-redshift plane is obtained by integrating the XLF definition:\n",
    "\n",
    "$$N_{\\text{exp}} = \\int_{L_{\\text{X,min}}}^{L_{\\text{X,max}}} \\int_{z_{\\text{min}}}^{z_{\\text{max}}} \\phi(L_{\\text{X}},z) \\Omega(f_{\\text{X}},r_{\\theta}) \\frac{\\mathrm{d}V(z)}{\\mathrm{d}z} \\mathrm{d}z\\mathrm{d}L_{\\text{X}}$$\n",
    "\n",
    "As mentioned earlier, the XLF changes little compared to the volume element. Hence we can predict the number of clusters for any of the WARPS subsets based on the local reference XLF $\\phi_{\\text{local}}$, the observed XLF for the subset $\\phi_{\\text{observed}}$, and the number of clusters observed in that subset $N_{\\text{observed}}$:\n",
    "\n",
    "$$N_{\\text{exp}} \\approx N_{\\text{observed}} \\times \\frac{\\phi_{\\text{local}}}{\\phi_{\\text{observed}}}$$\n",
    "\n",
    "If the local reference XLF is a good description of the WARPS XLF, and there is no evolution, then $N_{\\text{exp}}$ should be consistent with $N_{\\text{observed}}$ for all subsets.\n",
    "\n",
    "![Expected vs Observed Numbers](figures/koens_2013/nexpected.png)"
   ]
  },
  {
   "cell_type": "code",
   "execution_count": null,
   "id": "ab1be038",
   "metadata": {},
   "outputs": [],
   "source": []
  }
 ],
 "metadata": {
  "kernelspec": {
   "display_name": "eRASS_XLF",
   "language": "python",
   "name": "python3"
  },
  "language_info": {
   "codemirror_mode": {
    "name": "ipython",
    "version": 3
   },
   "file_extension": ".py",
   "mimetype": "text/x-python",
   "name": "python",
   "nbconvert_exporter": "python",
   "pygments_lexer": "ipython3",
   "version": "3.13.5"
  }
 },
 "nbformat": 4,
 "nbformat_minor": 5
}
